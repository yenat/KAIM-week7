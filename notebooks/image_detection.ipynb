{
 "cells": [
  {
   "cell_type": "code",
   "execution_count": null,
   "metadata": {
    "vscode": {
     "languageId": "plaintext"
    }
   },
   "outputs": [],
   "source": [
    "import torch\n",
    "from PIL import Image\n",
    "import cv2\n",
    "\n",
    "# Load the YOLOv5 model\n",
    "model = torch.hub.load('ultralytics/yolov5', 'yolov5s')\n",
    "\n",
    "# Load an image\n",
    "img = cv2.imread('/content/images/chemed/photo_2022-09-05_09-57-09 (1).jpg')\n",
    "\n",
    "# Perform object detection\n",
    "results = model(img)\n",
    "\n",
    "# Display results\n",
    "results.show()"
   ]
  },
  {
   "cell_type": "code",
   "execution_count": null,
   "metadata": {
    "vscode": {
     "languageId": "plaintext"
    }
   },
   "outputs": [],
   "source": [
    "# Extract bounding box coordinates, confidence scores, and class labels\n",
    "detections = results.xyxy[0]  # assuming single image\n",
    "for *xyxy, conf, cls in detections:\n",
    "    print(f\"Coordinates: {xyxy}, Confidence: {conf}, Class: {cls}\")"
   ]
  },
  {
   "cell_type": "code",
   "execution_count": null,
   "metadata": {
    "vscode": {
     "languageId": "plaintext"
    }
   },
   "outputs": [],
   "source": [
    "from sqlalchemy import create_engine, Column, Integer, Float, String, MetaData, Table\n",
    "from sqlalchemy.ext.declarative import declarative_base\n",
    "from sqlalchemy.orm import sessionmaker\n",
    "\n",
    "Base = declarative_base()\n",
    "\n",
    "class Detection(Base):\n",
    "    __tablename__ = 'detections'\n",
    "    id = Column(Integer, primary_key=True)\n",
    "    x1 = Column(Float)\n",
    "    y1 = Column(Float)\n",
    "    x2 = Column(Float)\n",
    "    y2 = Column(Float)\n",
    "    confidence = Column(Float)\n",
    "    class_label = Column(String)\n",
    "\n",
    "# Create an engine and session\n",
    "engine = create_engine('sqlite:///detections.db')\n",
    "Base.metadata.create_all(engine)\n",
    "Session = sessionmaker(bind=engine)\n",
    "session = Session()\n",
    "\n",
    "# Save detections to the database\n",
    "for *xyxy, conf, cls in detections:\n",
    "    detection = Detection(x1=xyxy[0], y1=xyxy[1], x2=xyxy[2], y2=xyxy[3], confidence=conf.item(), class_label=cls.item())\n",
    "    session.add(detection)\n",
    "session.commit()"
   ]
  },
  {
   "cell_type": "code",
   "execution_count": null,
   "metadata": {
    "vscode": {
     "languageId": "plaintext"
    }
   },
   "outputs": [],
   "source": [
    "import logging\n",
    "\n",
    "# Configure logging\n",
    "logging.basicConfig(filename='detection.log', level=logging.INFO, format='%(asctime)s - %(levelname)s - %(message)s')\n",
    "\n",
    "# Log the start of the detection process\n",
    "logging.info('Started object detection process')\n",
    "\n",
    "try:\n",
    "    # Your object detection and data processing code here\n",
    "    pass\n",
    "    logging.info('Object detection process completed successfully')\n",
    "except Exception as e:\n",
    "    logging.error(f'Error during object detection process: {e}')"
   ]
  }
 ],
 "metadata": {
  "language_info": {
   "name": "python"
  }
 },
 "nbformat": 4,
 "nbformat_minor": 2
}
