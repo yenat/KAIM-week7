{
  "cells": [
    {
      "cell_type": "code",
      "execution_count": 2,
      "metadata": {
        "colab": {
          "base_uri": "https://localhost:8080/"
        },
        "id": "8wOD9YoQwUaH",
        "outputId": "831efa6b-91ff-40a2-ae90-213835148372"
      },
      "outputs": [
        {
          "name": "stdout",
          "output_type": "stream",
          "text": [
            "Collecting telethon\n",
            "  Downloading Telethon-1.38.1-py3-none-any.whl.metadata (3.6 kB)\n",
            "Collecting pyaes (from telethon)\n",
            "  Downloading pyaes-1.6.1.tar.gz (28 kB)\n",
            "  Preparing metadata (setup.py) ... \u001b[?25l\u001b[?25hdone\n",
            "Requirement already satisfied: rsa in /usr/local/lib/python3.11/dist-packages (from telethon) (4.9)\n",
            "Requirement already satisfied: pyasn1>=0.1.3 in /usr/local/lib/python3.11/dist-packages (from rsa->telethon) (0.6.1)\n",
            "Downloading Telethon-1.38.1-py3-none-any.whl (702 kB)\n",
            "\u001b[2K   \u001b[90m━━━━━━━━━━━━━━━━━━━━━━━━━━━━━━━━━━━━━━━━\u001b[0m \u001b[32m702.2/702.2 kB\u001b[0m \u001b[31m11.3 MB/s\u001b[0m eta \u001b[36m0:00:00\u001b[0m\n",
            "\u001b[?25hBuilding wheels for collected packages: pyaes\n",
            "  Building wheel for pyaes (setup.py) ... \u001b[?25l\u001b[?25hdone\n",
            "  Created wheel for pyaes: filename=pyaes-1.6.1-py3-none-any.whl size=26346 sha256=45e3541f0bb5b22a8f77ea22de2d3f62fd59d73a121034637a19f4f5740807f1\n",
            "  Stored in directory: /root/.cache/pip/wheels/4e/52/33/010d0843550bffb6a591b11629070ae140c0ad4f53e68a3bd3\n",
            "Successfully built pyaes\n",
            "Installing collected packages: pyaes, telethon\n",
            "Successfully installed pyaes-1.6.1 telethon-1.38.1\n"
          ]
        }
      ],
      "source": [
        "!pip install telethon\n"
      ]
    },
    {
      "cell_type": "code",
      "execution_count": 3,
      "metadata": {
        "id": "8lsHZXZ7wic9"
      },
      "outputs": [],
      "source": [
        "import logging\n",
        "import csv\n",
        "import os\n",
        "from telethon import TelegramClient\n",
        "from telethon.tl.functions.messages import GetHistoryRequest\n",
        "from telethon.tl.types import PeerChannel\n"
      ]
    },
    {
      "cell_type": "code",
      "execution_count": 4,
      "metadata": {
        "colab": {
          "base_uri": "https://localhost:8080/"
        },
        "id": "Djm3TD_swofm",
        "outputId": "ff28d4ce-5b9f-480f-ee9f-51857c07e952"
      },
      "outputs": [
        {
          "name": "stdout",
          "output_type": "stream",
          "text": [
            "Please enter the code you received: 41748\n",
            "Signed in successfully as Yenat; remember to not break the ToS or you will risk an account ban!\n"
          ]
        },
        {
          "data": {
            "text/plain": [
              "<telethon.client.telegramclient.TelegramClient at 0x7c1c7eb1f7d0>"
            ]
          },
          "execution_count": 4,
          "metadata": {},
          "output_type": "execute_result"
        }
      ],
      "source": [
        "api_id = ''\n",
        "api_hash = ''\n",
        "phone_number = ''\n",
        "client = TelegramClient('session_name', api_id, api_hash)\n",
        "\n",
        "await client.start(phone_number)\n"
      ]
    },
    {
      "cell_type": "code",
      "execution_count": 6,
      "metadata": {
        "id": "0WyOg5aZxG-p"
      },
      "outputs": [],
      "source": [
        "async def scrape_channel(channel_username):\n",
        "    await client.connect()\n",
        "    if not await client.is_user_authorized():\n",
        "        await client.send_code_request(phone_number)\n",
        "        await client.sign_in(phone_number, input('Enter the code: '))\n",
        "\n",
        "    entity = await client.get_entity(channel_username)\n",
        "    my_channel = PeerChannel(entity.id)\n",
        "    offset_id = 0\n",
        "    limit = 100\n",
        "    all_messages = []\n",
        "\n",
        "    while True:\n",
        "        history = await client(GetHistoryRequest(\n",
        "            peer=my_channel,\n",
        "            offset_id=offset_id,\n",
        "            offset_date=None,\n",
        "            add_offset=0,\n",
        "            limit=limit,\n",
        "            max_id=0,\n",
        "            min_id=0,\n",
        "            hash=0\n",
        "        ))\n",
        "\n",
        "        if not history.messages:\n",
        "            break\n",
        "\n",
        "        messages = history.messages\n",
        "        for message in messages:\n",
        "            all_messages.append(message.to_dict())\n",
        "\n",
        "        offset_id = messages[len(messages) - 1].id\n",
        "\n",
        "    await client.disconnect()\n",
        "    return all_messages\n",
        "\n",
        "# Replace 'CheMed123' with the correct channel username\n",
        "messages = await scrape_channel('CheMed123')\n",
        "\n",
        "output_file = 'chemed_channel_data.csv'\n",
        "with open(output_file, mode='w', encoding='utf-8', newline='') as file:\n",
        "    writer = csv.writer(file)\n",
        "    writer.writerow(['id', 'date', 'message'])\n",
        "    for message in messages:\n",
        "        writer.writerow([message['id'], message['date'], message.get('message', '')])\n",
        "\n",
        "logging.basicConfig(filename='scraping.log', level=logging.INFO, format='%(asctime)s - %(levelname)s - %(message)s')\n",
        "logging.info('Started scraping CheMed123 Telegram Channel')\n",
        "\n",
        "try:\n",
        "    messages = await scrape_channel('CheMed123')\n",
        "    logging.info('Scraping completed successfully')\n",
        "except Exception as e:\n",
        "    logging.error(f'Error during scraping: {e}')"
      ]
    },
    {
      "cell_type": "code",
      "execution_count": 7,
      "metadata": {
        "id": "RN-TgOl5yRne"
      },
      "outputs": [],
      "source": [
        "output_file = 'chemed_channel_data.csv'\n",
        "with open(output_file, mode='w', encoding='utf-8', newline='') as file:\n",
        "    writer = csv.writer(file)\n",
        "    writer.writerow(['id', 'date', 'message'])\n",
        "    for message in messages:\n",
        "        writer.writerow([message['id'], message['date'], message.get('message', '')])\n"
      ]
    },
    {
      "cell_type": "code",
      "execution_count": 10,
      "metadata": {
        "id": "0Xc2JoROyUZM"
      },
      "outputs": [],
      "source": [
        "logging.basicConfig(filename='scraping.log', level=logging.INFO, format='%(asctime)s - %(levelname)s - %(message)s')\n",
        "logging.info('Started scraping Chemed Telegram Channel')\n",
        "\n",
        "try:\n",
        "    messages = await scrape_channel('CheMed123')\n",
        "    logging.info('Scraping completed successfully')\n",
        "except Exception as e:\n",
        "    logging.error(f'Error during scraping: {e}')\n"
      ]
    },
    {
      "cell_type": "code",
      "execution_count": null,
      "metadata": {
        "id": "TZS1gJo2y849"
      },
      "outputs": [],
      "source": [
        "import asyncio\n",
        "\n",
        "async def scrape_images(channel_username, output_dir):\n",
        "    await client.connect()\n",
        "    if not await client.is_user_authorized():\n",
        "        await client.send_code_request(phone_number)\n",
        "        await client.sign_in(phone_number, input('Enter the code: '))\n",
        "\n",
        "    entity = await client.get_entity(channel_username)\n",
        "    my_channel = PeerChannel(entity.id)\n",
        "    offset_id = 0\n",
        "    limit = 100\n",
        "\n",
        "    while True:\n",
        "        history = await client(GetHistoryRequest(\n",
        "            peer=my_channel,\n",
        "            offset_id=offset_id,\n",
        "            offset_date=None,\n",
        "            add_offset=0,\n",
        "            limit=limit,\n",
        "            max_id=0,\n",
        "            min_id=0,\n",
        "            hash=0\n",
        "        ))\n",
        "\n",
        "        if not history.messages:\n",
        "            break\n",
        "\n",
        "        messages = history.messages\n",
        "        for message in messages:\n",
        "            if message.media:\n",
        "                try:\n",
        "                    await client.download_media(message, output_dir)\n",
        "                except Exception as e:\n",
        "                    logging.error(f\"Failed to download media: {e}\")\n",
        "\n",
        "        offset_id = messages[len(messages) - 1].id\n",
        "\n",
        "    await client.disconnect()\n",
        "\n",
        "# Set output directories\n",
        "os.makedirs('images/chemed', exist_ok=True)\n",
        "os.makedirs('images/lobelia', exist_ok=True)\n",
        "\n",
        "# Scrape images from both channels\n",
        "await scrape_images('CheMed123', 'images/chemed')\n",
        "await scrape_images('lobelia4cosmetics', 'images/lobelia')\n"
      ]
    },
    {
      "cell_type": "code",
      "execution_count": null,
      "metadata": {
        "id": "5hPY0YlhzGD-"
      },
      "outputs": [],
      "source": [
        "logging.basicConfig(filename='image_scraping.log', level=logging.INFO, format='%(asctime)s - %(levelname)s - %(message)s')\n",
        "logging.info('Started scraping images from CheMed123 and lobelia4cosmetics Telegram Channels')\n",
        "\n",
        "try:\n",
        "    await scrape_images('CheMed123', 'images/chemed')\n",
        "    await scrape_images('lobelia4cosmetics', 'images/lobelia')\n",
        "    logging.info('Image scraping completed successfully')\n",
        "except Exception as e:\n",
        "    logging.error(f'Error during image scraping: {e}')\n"
      ]
    }
  ],
  "metadata": {
    "colab": {
      "provenance": []
    },
    "kernelspec": {
      "display_name": "Python 3",
      "name": "python3"
    },
    "language_info": {
      "name": "python"
    }
  },
  "nbformat": 4,
  "nbformat_minor": 0
}
